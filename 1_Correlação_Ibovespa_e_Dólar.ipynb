{
  "nbformat": 4,
  "nbformat_minor": 0,
  "metadata": {
    "colab": {
      "name": "1_Correlação Ibovespa e Dólar",
      "provenance": [],
      "authorship_tag": "ABX9TyMogUN0QtJ4KBBE7Ii8k8GW",
      "include_colab_link": true
    },
    "kernelspec": {
      "name": "python3",
      "display_name": "Python 3"
    },
    "language_info": {
      "name": "python"
    }
  },
  "cells": [
    {
      "cell_type": "markdown",
      "metadata": {
        "id": "view-in-github",
        "colab_type": "text"
      },
      "source": [
        "<a href=\"https://colab.research.google.com/github/victorjorgeecono/Correlacao_Dolar_ibovespa/blob/main/1_Correla%C3%A7%C3%A3o_Ibovespa_e_D%C3%B3lar.ipynb\" target=\"_parent\"><img src=\"https://colab.research.google.com/assets/colab-badge.svg\" alt=\"Open In Colab\"/></a>"
      ]
    },
    {
      "cell_type": "markdown",
      "metadata": {
        "id": "Anb_Q5Rf7yGI"
      },
      "source": [
        "1 - Primeiramente instalaremos as bibliotecas que vamos utilizar para extrair os dados e fazer a análise"
      ]
    },
    {
      "cell_type": "code",
      "metadata": {
        "id": "QGuKpEQuRAKd"
      },
      "source": [
        "!pip install pandas \n",
        "!pip install pandas_datareader \n",
        "!pip install yfinance\n",
        "!pip install numpy\n",
        "!pip install matplotlib\n",
        "!pip install seaborn"
      ],
      "execution_count": null,
      "outputs": []
    },
    {
      "cell_type": "markdown",
      "metadata": {
        "id": "BUWBSuPq8Yzs"
      },
      "source": [
        "2 - Após a instalação das bibliotecas, vamos importá-las e abreviar o nome das mesmas."
      ]
    },
    {
      "cell_type": "code",
      "metadata": {
        "id": "qwbJZkIGRf7m"
      },
      "source": [
        "import pandas as pd\n",
        "import pandas_datareader.data as web\n",
        "import matplotlib.pyplot as plt\n",
        "import numpy as np\n",
        "import seaborn as sns\n",
        "import yfinance as yf\n",
        "import seaborn as sns"
      ],
      "execution_count": 34,
      "outputs": []
    },
    {
      "cell_type": "markdown",
      "metadata": {
        "id": "wybma6jW8i2X"
      },
      "source": [
        "\n",
        "\n",
        "*   O  próximo passo é definir nosso período de análise\n",
        "*   O formato da data será no padrão aaaa/mm/dd, com base na nossa base de dados\n",
        "\n",
        "\n",
        "\n"
      ]
    },
    {
      "cell_type": "code",
      "metadata": {
        "id": "qpisXKdgR-kG"
      },
      "source": [
        "# O primeiro passo é definir nosso período inicial e final \n",
        "# \n",
        "data_inicio = '2009-01-01'\n",
        "data_final = '2021-07-01'"
      ],
      "execution_count": 9,
      "outputs": []
    },
    {
      "cell_type": "markdown",
      "metadata": {
        "id": "ZvFhg6Gj9QtQ"
      },
      "source": [
        " \n",
        "3 - Definindo nossa análise\n",
        "\n",
        "*  Como nosso intuito é analisar a correlação entre as variações dos preços do Ibovespa e as variações dos preços do Dólar/Real, precisamos evidenciar e buscar nossos dados de algum banco de dados\n",
        "*  \n",
        "Para isso, vamos usar os dados do Yahooo finance. Para conferir se a nomenclatura dos termos está certa é recomendado ir no site e pesquisar na aba e usar o nome referenciado na sua lista, como segue o exemplo abaixo:\n",
        "\n",
        "\n"
      ]
    },
    {
      "cell_type": "code",
      "metadata": {
        "id": "-pVeiyeBXlsy"
      },
      "source": [
        "analise = ['^BVSP', 'USDBRL=X' ]"
      ],
      "execution_count": 59,
      "outputs": []
    },
    {
      "cell_type": "markdown",
      "metadata": {
        "id": "ygH1_iah90tB"
      },
      "source": [
        "4 - Extraindo os dados\n",
        "\n",
        "\n",
        "*   Apos criar nossa lista que será analisada, vamos extrair os dados por uma função do próprio yahoo finance, a yfinance.\n",
        "\n",
        "\n"
      ]
    },
    {
      "cell_type": "code",
      "metadata": {
        "colab": {
          "base_uri": "https://localhost:8080/"
        },
        "id": "DR3OD7xHaFgZ",
        "outputId": "9f5443aa-bd7b-4f13-b29e-e81610167035"
      },
      "source": [
        "carteira1 = yf.download(analise, start= data_inicio)['Adj Close']"
      ],
      "execution_count": 58,
      "outputs": [
        {
          "output_type": "stream",
          "text": [
            "[*********************100%***********************]  2 of 2 completed\n"
          ],
          "name": "stdout"
        }
      ]
    },
    {
      "cell_type": "markdown",
      "metadata": {
        "id": "8x6G_sG9-Nxz"
      },
      "source": [
        "4.1 - Conferindo nossa tabela:"
      ]
    },
    {
      "cell_type": "code",
      "metadata": {
        "colab": {
          "base_uri": "https://localhost:8080/",
          "height": 447
        },
        "id": "VMwS5TUx0JVL",
        "outputId": "f10ab2e7-64a5-4de5-c9cd-579406450286"
      },
      "source": [
        "carteira1"
      ],
      "execution_count": 60,
      "outputs": [
        {
          "output_type": "execute_result",
          "data": {
            "text/html": [
              "<div>\n",
              "<style scoped>\n",
              "    .dataframe tbody tr th:only-of-type {\n",
              "        vertical-align: middle;\n",
              "    }\n",
              "\n",
              "    .dataframe tbody tr th {\n",
              "        vertical-align: top;\n",
              "    }\n",
              "\n",
              "    .dataframe thead th {\n",
              "        text-align: right;\n",
              "    }\n",
              "</style>\n",
              "<table border=\"1\" class=\"dataframe\">\n",
              "  <thead>\n",
              "    <tr style=\"text-align: right;\">\n",
              "      <th></th>\n",
              "      <th>USDBRL=X</th>\n",
              "      <th>^BVSP</th>\n",
              "    </tr>\n",
              "    <tr>\n",
              "      <th>Date</th>\n",
              "      <th></th>\n",
              "      <th></th>\n",
              "    </tr>\n",
              "  </thead>\n",
              "  <tbody>\n",
              "    <tr>\n",
              "      <th>2009-01-01</th>\n",
              "      <td>2.3240</td>\n",
              "      <td>NaN</td>\n",
              "    </tr>\n",
              "    <tr>\n",
              "      <th>2009-01-02</th>\n",
              "      <td>2.3130</td>\n",
              "      <td>40244.0</td>\n",
              "    </tr>\n",
              "    <tr>\n",
              "      <th>2009-01-05</th>\n",
              "      <td>2.2165</td>\n",
              "      <td>41519.0</td>\n",
              "    </tr>\n",
              "    <tr>\n",
              "      <th>2009-01-06</th>\n",
              "      <td>2.1390</td>\n",
              "      <td>42312.0</td>\n",
              "    </tr>\n",
              "    <tr>\n",
              "      <th>2009-01-07</th>\n",
              "      <td>2.1725</td>\n",
              "      <td>40820.0</td>\n",
              "    </tr>\n",
              "    <tr>\n",
              "      <th>...</th>\n",
              "      <td>...</td>\n",
              "      <td>...</td>\n",
              "    </tr>\n",
              "    <tr>\n",
              "      <th>2021-07-14</th>\n",
              "      <td>5.1624</td>\n",
              "      <td>128407.0</td>\n",
              "    </tr>\n",
              "    <tr>\n",
              "      <th>2021-07-15</th>\n",
              "      <td>5.0699</td>\n",
              "      <td>127468.0</td>\n",
              "    </tr>\n",
              "    <tr>\n",
              "      <th>2021-07-16</th>\n",
              "      <td>5.1100</td>\n",
              "      <td>125960.0</td>\n",
              "    </tr>\n",
              "    <tr>\n",
              "      <th>2021-07-19</th>\n",
              "      <td>5.1154</td>\n",
              "      <td>124395.0</td>\n",
              "    </tr>\n",
              "    <tr>\n",
              "      <th>2021-07-20</th>\n",
              "      <td>5.2771</td>\n",
              "      <td>NaN</td>\n",
              "    </tr>\n",
              "  </tbody>\n",
              "</table>\n",
              "<p>3271 rows × 2 columns</p>\n",
              "</div>"
            ],
            "text/plain": [
              "            USDBRL=X     ^BVSP\n",
              "Date                          \n",
              "2009-01-01    2.3240       NaN\n",
              "2009-01-02    2.3130   40244.0\n",
              "2009-01-05    2.2165   41519.0\n",
              "2009-01-06    2.1390   42312.0\n",
              "2009-01-07    2.1725   40820.0\n",
              "...              ...       ...\n",
              "2021-07-14    5.1624  128407.0\n",
              "2021-07-15    5.0699  127468.0\n",
              "2021-07-16    5.1100  125960.0\n",
              "2021-07-19    5.1154  124395.0\n",
              "2021-07-20    5.2771       NaN\n",
              "\n",
              "[3271 rows x 2 columns]"
            ]
          },
          "metadata": {
            "tags": []
          },
          "execution_count": 60
        }
      ]
    },
    {
      "cell_type": "markdown",
      "metadata": {
        "id": "nSPy7rJ--foh"
      },
      "source": [
        "5 - Renomeando as colunas"
      ]
    },
    {
      "cell_type": "code",
      "metadata": {
        "id": "pqdJG0fFZ8qi"
      },
      "source": [
        "carteira1.columns = ['Dólar', 'Ibovespa']\n"
      ],
      "execution_count": 61,
      "outputs": []
    },
    {
      "cell_type": "markdown",
      "metadata": {
        "id": "hjIa_vhl-myg"
      },
      "source": [
        "5.1  Conferindo se as colunas foram renomeadas"
      ]
    },
    {
      "cell_type": "code",
      "metadata": {
        "colab": {
          "base_uri": "https://localhost:8080/",
          "height": 447
        },
        "id": "avio5TR_blJi",
        "outputId": "23b36288-3ef0-4854-92a3-527a08ebd1d5"
      },
      "source": [
        "carteira1"
      ],
      "execution_count": 62,
      "outputs": [
        {
          "output_type": "execute_result",
          "data": {
            "text/html": [
              "<div>\n",
              "<style scoped>\n",
              "    .dataframe tbody tr th:only-of-type {\n",
              "        vertical-align: middle;\n",
              "    }\n",
              "\n",
              "    .dataframe tbody tr th {\n",
              "        vertical-align: top;\n",
              "    }\n",
              "\n",
              "    .dataframe thead th {\n",
              "        text-align: right;\n",
              "    }\n",
              "</style>\n",
              "<table border=\"1\" class=\"dataframe\">\n",
              "  <thead>\n",
              "    <tr style=\"text-align: right;\">\n",
              "      <th></th>\n",
              "      <th>Dólar</th>\n",
              "      <th>Ibovespa</th>\n",
              "    </tr>\n",
              "    <tr>\n",
              "      <th>Date</th>\n",
              "      <th></th>\n",
              "      <th></th>\n",
              "    </tr>\n",
              "  </thead>\n",
              "  <tbody>\n",
              "    <tr>\n",
              "      <th>2009-01-01</th>\n",
              "      <td>2.3240</td>\n",
              "      <td>NaN</td>\n",
              "    </tr>\n",
              "    <tr>\n",
              "      <th>2009-01-02</th>\n",
              "      <td>2.3130</td>\n",
              "      <td>40244.0</td>\n",
              "    </tr>\n",
              "    <tr>\n",
              "      <th>2009-01-05</th>\n",
              "      <td>2.2165</td>\n",
              "      <td>41519.0</td>\n",
              "    </tr>\n",
              "    <tr>\n",
              "      <th>2009-01-06</th>\n",
              "      <td>2.1390</td>\n",
              "      <td>42312.0</td>\n",
              "    </tr>\n",
              "    <tr>\n",
              "      <th>2009-01-07</th>\n",
              "      <td>2.1725</td>\n",
              "      <td>40820.0</td>\n",
              "    </tr>\n",
              "    <tr>\n",
              "      <th>...</th>\n",
              "      <td>...</td>\n",
              "      <td>...</td>\n",
              "    </tr>\n",
              "    <tr>\n",
              "      <th>2021-07-14</th>\n",
              "      <td>5.1624</td>\n",
              "      <td>128407.0</td>\n",
              "    </tr>\n",
              "    <tr>\n",
              "      <th>2021-07-15</th>\n",
              "      <td>5.0699</td>\n",
              "      <td>127468.0</td>\n",
              "    </tr>\n",
              "    <tr>\n",
              "      <th>2021-07-16</th>\n",
              "      <td>5.1100</td>\n",
              "      <td>125960.0</td>\n",
              "    </tr>\n",
              "    <tr>\n",
              "      <th>2021-07-19</th>\n",
              "      <td>5.1154</td>\n",
              "      <td>124395.0</td>\n",
              "    </tr>\n",
              "    <tr>\n",
              "      <th>2021-07-20</th>\n",
              "      <td>5.2771</td>\n",
              "      <td>NaN</td>\n",
              "    </tr>\n",
              "  </tbody>\n",
              "</table>\n",
              "<p>3271 rows × 2 columns</p>\n",
              "</div>"
            ],
            "text/plain": [
              "             Dólar  Ibovespa\n",
              "Date                        \n",
              "2009-01-01  2.3240       NaN\n",
              "2009-01-02  2.3130   40244.0\n",
              "2009-01-05  2.2165   41519.0\n",
              "2009-01-06  2.1390   42312.0\n",
              "2009-01-07  2.1725   40820.0\n",
              "...            ...       ...\n",
              "2021-07-14  5.1624  128407.0\n",
              "2021-07-15  5.0699  127468.0\n",
              "2021-07-16  5.1100  125960.0\n",
              "2021-07-19  5.1154  124395.0\n",
              "2021-07-20  5.2771       NaN\n",
              "\n",
              "[3271 rows x 2 columns]"
            ]
          },
          "metadata": {
            "tags": []
          },
          "execution_count": 62
        }
      ]
    },
    {
      "cell_type": "markdown",
      "metadata": {
        "id": "BH6vdrnw-u-v"
      },
      "source": [
        "6 - Vamos plotar o gráfico para vermos se há algo suspeito nos dados, como por exemplo, valores vazios."
      ]
    },
    {
      "cell_type": "code",
      "metadata": {
        "id": "VFX9ATFe00vZ"
      },
      "source": [
        "sns.set()\n",
        "carteira1.plot(subplots= True, figsize = (22,8))"
      ],
      "execution_count": null,
      "outputs": []
    },
    {
      "cell_type": "markdown",
      "metadata": {
        "id": "b2CwMBXb-5Iw"
      },
      "source": [
        "6.1 - Removedo valores vazios\n",
        "\n",
        "*   Vizualmente podemos notar que há um 'vázio' em datas diversas de ambos papéis.\n",
        "*  Vamos remover esses valores vazios usando um comando `dropna`para remover os valores nulos da nossa base.\n",
        "\n"
      ]
    },
    {
      "cell_type": "code",
      "metadata": {
        "id": "_7Sykz9h44H8"
      },
      "source": [
        "carteira2 = carteira1.dropna()"
      ],
      "execution_count": 64,
      "outputs": []
    },
    {
      "cell_type": "markdown",
      "metadata": {
        "id": "9_cAakUX_3Pw"
      },
      "source": [
        "6.2 - Vamos plotar novamente para conferir"
      ]
    },
    {
      "cell_type": "code",
      "metadata": {
        "colab": {
          "base_uri": "https://localhost:8080/",
          "height": 522
        },
        "id": "IrtzEkig5D-8",
        "outputId": "d3108165-ce81-43a1-c68f-abf75e3a441d"
      },
      "source": [
        "sns.set()\n",
        "carteira2.plot(subplots= True, figsize = (22,8))"
      ],
      "execution_count": 65,
      "outputs": [
        {
          "output_type": "execute_result",
          "data": {
            "text/plain": [
              "array([<matplotlib.axes._subplots.AxesSubplot object at 0x7f72bc68a750>,\n",
              "       <matplotlib.axes._subplots.AxesSubplot object at 0x7f72b29f6710>],\n",
              "      dtype=object)"
            ]
          },
          "metadata": {
            "tags": []
          },
          "execution_count": 65
        },
        {
          "output_type": "display_data",
          "data": {
            "image/png": "[encoded data removed]",
            "text/plain": [
              "<Figure size 1584x576 with 2 Axes>"
            ]
          },
          "metadata": {
            "tags": []
          }
        }
      ]
    },
    {
      "cell_type": "markdown",
      "metadata": {
        "id": "6VbyncAvAoxx"
      },
      "source": [
        "7 - Por último, vamos calcular a correlação entre as variáveis:\n",
        " *O objetivo do estudo da correlação é determinar (mensurar) o grau de\n",
        "relacionamento entre duas variáveis.*"
      ]
    },
    {
      "cell_type": "code",
      "metadata": {
        "colab": {
          "base_uri": "https://localhost:8080/",
          "height": 289
        },
        "id": "4aZ-hSTy5OAp",
        "outputId": "54ef8f22-8bda-46d5-b716-227abc2f8699"
      },
      "source": [
        "  sns.heatmap(carteira2.corr(), annot= True)"
      ],
      "execution_count": 55,
      "outputs": [
        {
          "output_type": "execute_result",
          "data": {
            "text/plain": [
              "<matplotlib.axes._subplots.AxesSubplot at 0x7f72b2c50e50>"
            ]
          },
          "metadata": {
            "tags": []
          },
          "execution_count": 55
        },
        {
          "output_type": "display_data",
          "data": {
            "image/png": "[encoded data removed]",
            "text/plain": [
              "<Figure size 432x288 with 2 Axes>"
            ]
          },
          "metadata": {
            "tags": []
          }
        }
      ]
    },
    {
      "cell_type": "markdown",
      "metadata": {
        "id": "qxOy-OrCBH8f"
      },
      "source": [
        ""
      ]
    }
  ]
}